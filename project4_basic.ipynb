{
 "cells": [
  {
   "cell_type": "code",
   "execution_count": 11,
   "metadata": {},
   "outputs": [
    {
     "name": "stdout",
     "output_type": "stream",
     "text": [
      "   0    1         2   3    4   5   6   7   8   9   ...    33    34    35   36  \\\n",
      "0   0  tcp  ftp_data  SF  491   0   0   0   0   0  ...  0.17  0.03  0.17  0.0   \n",
      "\n",
      "    37   38    39   40      41  42  \n",
      "0  0.0  0.0  0.05  0.0  normal  20  \n",
      "\n",
      "[1 rows x 43 columns]\n",
      "[-0.26638275  0.47661239 -0.36726405 -0.03907013 -0.02391406 -0.08348906\n",
      " -0.004601   -0.08732427 -0.07410481 -0.07617051 -0.06650239 -0.06666277\n",
      " -0.06438176 -0.06626111 -0.06714165 -0.27775928 -0.05991961 -0.1949719\n",
      " -0.15880297 -0.06270256 -0.06158693 -0.12008236 -0.11903497 -0.23961491\n",
      " -0.0649594  -0.00325338 -0.06009726  1.45583557 -0.00325338 -0.06528722\n",
      "  0.         -0.07160882 -0.07460855 -0.05920374 -0.04842136 -0.05615575\n",
      " -0.06167345 -0.05802188 -0.05947318 -0.05983058 -0.05792998 -0.05273343\n",
      " -0.05191989 -0.05363407 -0.071758   -0.04842136 -0.03768712 -0.18943547\n",
      " -0.004601   -0.02541777 -0.04708541 -0.02254568 -0.45703661 -0.0086079\n",
      " -0.02583137 -0.02499735 -0.02301083 -0.24761134 -0.04536068 -0.050465\n",
      " -0.05529572 -0.06626111 -0.0611525  -0.13693556 -0.00325338 -0.00727493\n",
      " -0.07115946 -0.0086079  -0.06971775 -0.07940688 -0.07396027 -0.07085833\n",
      " -0.07345219 -0.01811692 -0.31171166 -0.1119776  -0.02855977 -0.13845198\n",
      " -0.61986012 -0.05461756 -0.03222335 -0.01925071  0.82493815 -0.0458269\n",
      " -0.10973015 -0.00762756 -0.00520719 -0.0141825  -0.09060812 -0.0075914\n",
      " -0.09540494 -0.02586913  1.23541249 -0.01121801 -0.03536264 -0.02333441\n",
      " -0.01184754 -0.02595248 -0.01905887 -0.04109169  0.         -0.00325338\n",
      " -0.09790392 -0.62943188 -0.21644542 -0.63856539 -0.63314254 -0.37266512\n",
      " -0.37269131  0.77107342 -0.34960166 -0.37437998 -0.46534785  1.25902176\n",
      "  1.06734001 -0.4375916  -0.44753536 -0.20007225 -0.64053112 -0.62595208\n",
      " -0.0579316  -0.21726295]\n",
      "(94479, 122) (94479,) (31494, 122) (31494,)\n"
     ]
    }
   ],
   "source": [
    "# -*- coding: utf-8 -*-\n",
    "\"\"\"\n",
    "Created on Mon Apr 15 19:43:04 2019\n",
    "\n",
    "Updated on Wed Jan 29 10:18:09 2020\n",
    "\n",
    "@author: created by Sowmya Myneni and updated by Dijiang Huang\n",
    "\n",
    "Edited by Kai Chi on Thu, July 6, 2023\n",
    "\"\"\"\n",
    "\n",
    "########################################\n",
    "# Part 1 - Data Pre-Processing\n",
    "#######################################\n",
    "\n",
    "# To load a dataset file in Python, you can use Pandas. Import pandas using the line below\n",
    "import pandas as pd\n",
    "# Import numpy to perform operations on the dataset\n",
    "import numpy as np\n",
    "\n",
    "# Variable Setup\n",
    "# Available datasets: KDDTrain+.txt, KDDTest+.txt, etc. More read Data Set Introduction.html within the NSL-KDD dataset folder\n",
    "# Type the training dataset file name in ''\n",
    "TrainingDataPath='NSL-KDD/'\n",
    "TrainingData='KDDTrain+.txt'\n",
    "# Batch Size\n",
    "BatchSize=10\n",
    "# Epohe Size\n",
    "NumEpoch=10\n",
    "\n",
    "\n",
    "# Import dataset.\n",
    "# Dataset is given in TraningData variable You can replace it with the file \n",
    "# path such as “C:\\Users\\...\\dataset.csv’. \n",
    "# The file can be a .txt as well. \n",
    "# If the dataset file has header, then keep header=0 otherwise use header=none\n",
    "# reference: https://www.shanelynn.ie/select-pandas-dataframe-rows-and-columns-using-iloc-loc-and-ix/\n",
    "dataset = pd.read_csv(TrainingDataPath+TrainingData, header=None)\n",
    "X = dataset.iloc[:, 0:-2].values\n",
    "label_column = dataset.iloc[:, -2].values\n",
    "y = []\n",
    "for i in range(len(label_column)):\n",
    "    if label_column[i] == 'normal':\n",
    "        y.append(0)\n",
    "    else:\n",
    "        y.append(1)\n",
    "\n",
    "# Convert ist to array\n",
    "y = np.array(y)\n",
    "\n",
    "# Encoding categorical data (convert letters/words in numbers)\n",
    "# Reference: https://medium.com/@contactsunny/label-encoder-vs-one-hot-encoder-in-machine-learning-3fc273365621\n",
    "# The following code work without warning in Python 3.6 or older. Newer versions suggest to use ColumnTransformer\n",
    "'''\n",
    "from sklearn.preprocessing import LabelEncoder, OneHotEncoder\n",
    "le = LabelEncoder()\n",
    "X[:, 1] = le.fit_transform(X[:, 1])\n",
    "X[:, 2] = le.fit_transform(X[:, 2])\n",
    "X[:, 3] = le.fit_transform(X[:, 3])\n",
    "onehotencoder = OneHotEncoder(categorical_features = [1, 2, 3])\n",
    "X = onehotencoder.fit_transform(X).toarray()\n",
    "'''\n",
    "# The following code work Python 3.7 or newer\n",
    "from sklearn.preprocessing import OneHotEncoder\n",
    "from sklearn.compose import ColumnTransformer\n",
    "ct = ColumnTransformer(\n",
    "    [('one_hot_encoder', OneHotEncoder(), [1,2,3])],    # The column numbers to be transformed ([1, 2, 3] represents three columns to be transferred)\n",
    "    remainder='passthrough'                         # Leave the rest of the columns untouched\n",
    ")\n",
    "X = np.array(ct.fit_transform(X), dtype=float)\n",
    "\n",
    "# Splitting the dataset into the Training set and Test set (75% of data are used for training)\n",
    "# reference: https://scikit-learn.org/stable/modules/generated/sklearn.model_selection.train_test_split.html\n",
    "from sklearn.model_selection import train_test_split\n",
    "X_train, X_test, y_train, y_test = train_test_split(X, y, test_size = 0.25, random_state = 0)\n",
    "\n",
    "\n",
    "# Perform feature scaling. For ANN you can use StandardScaler, for RNNs recommended is \n",
    "# MinMaxScaler. \n",
    "# referece: https://scikit-learn.org/stable/modules/generated/sklearn.preprocessing.StandardScaler.html\n",
    "# https://scikit-learn.org/stable/modules/preprocessing.html\n",
    "from sklearn.preprocessing import StandardScaler\n",
    "sc = StandardScaler()\n",
    "X_train = sc.fit_transform(X_train)  # Scaling to the range [0,1]\n",
    "X_test = sc.fit_transform(X_test)\n",
    "\n",
    "print(dataset.head(1))\n",
    "print(X_train[0])\n",
    "print(X_train.shape,y_train.shape,X_test.shape,y_test.shape)\n",
    "\n"
   ]
  },
  {
   "cell_type": "code",
   "execution_count": 3,
   "metadata": {},
   "outputs": [
    {
     "name": "stdout",
     "output_type": "stream",
     "text": [
      "Epoch 1/10\n",
      "9448/9448 [==============================] - 11s 1ms/step - loss: 0.0691 - accuracy: 0.9729\n",
      "Epoch 2/10\n",
      "9448/9448 [==============================] - 11s 1ms/step - loss: 0.0330 - accuracy: 0.9872\n",
      "Epoch 3/10\n",
      "9448/9448 [==============================] - 15s 2ms/step - loss: 0.0278 - accuracy: 0.9900\n",
      "Epoch 4/10\n",
      "9448/9448 [==============================] - 14s 1ms/step - loss: 0.0254 - accuracy: 0.9911\n",
      "Epoch 5/10\n",
      "9448/9448 [==============================] - 11s 1ms/step - loss: 0.0237 - accuracy: 0.9917\n",
      "Epoch 6/10\n",
      "9448/9448 [==============================] - 11s 1ms/step - loss: 0.0243 - accuracy: 0.9921\n",
      "Epoch 7/10\n",
      "9448/9448 [==============================] - 13s 1ms/step - loss: 0.0233 - accuracy: 0.9923\n",
      "Epoch 8/10\n",
      "9448/9448 [==============================] - 14s 1ms/step - loss: 0.0218 - accuracy: 0.9926\n",
      "Epoch 9/10\n",
      "9448/9448 [==============================] - 14s 1ms/step - loss: 0.0211 - accuracy: 0.9928\n",
      "Epoch 10/10\n",
      "9448/9448 [==============================] - 11s 1ms/step - loss: 0.0223 - accuracy: 0.9930\n",
      "2953/2953 [==============================] - 3s 1ms/step - loss: 0.0197 - accuracy: 0.9935\n",
      "Print the loss and the accuracy of the model on the dataset\n",
      "Loss [0,1]: 0.0197 Accuracy [0,1]: 0.9935\n"
     ]
    }
   ],
   "source": [
    "########################################\n",
    "# Part 2: Building FNN\n",
    "#######################################\n",
    "\n",
    "# Importing the Keras libraries and packages\n",
    "#import keras\n",
    "from keras.models import Sequential\n",
    "from keras.layers import Dense\n",
    "\n",
    "# Initialising the ANN\n",
    "# Reference: https://machinelearningmastery.com/tutorial-first-neural-network-python-keras/\n",
    "classifier = Sequential()\n",
    "\n",
    "# Adding the input layer and the first hidden layer, 6 nodes, input_dim specifies the number of variables\n",
    "# rectified linear unit activation function relu, reference: https://machinelearningmastery.com/rectified-linear-activation-function-for-deep-learning-neural-networks/\n",
    "classifier.add(Dense(units = 6, kernel_initializer = 'uniform', activation = 'relu', input_dim = len(X_train[0])))\n",
    "\n",
    "# Adding the second hidden layer, 6 nodes\n",
    "classifier.add(Dense(units = 6, kernel_initializer = 'uniform', activation = 'relu'))\n",
    "\n",
    "# Adding the output layer, 1 node, \n",
    "# sigmoid on the output layer is to ensure the network output is between 0 and 1\n",
    "classifier.add(Dense(units = 1, kernel_initializer = 'uniform', activation = 'sigmoid'))\n",
    "\n",
    "# Compiling the ANN, \n",
    "# Gradient descent algorithm “adam“, Reference: https://machinelearningmastery.com/adam-optimization-algorithm-for-deep-learning/\n",
    "# This loss is for a binary classification problems and is defined in Keras as “binary_crossentropy“, Reference: https://machinelearningmastery.com/how-to-choose-loss-functions-when-training-deep-learning-neural-networks/\n",
    "classifier.compile(optimizer = 'adam', loss = 'binary_crossentropy', metrics = ['accuracy'])\n",
    "\n",
    "# Fitting the ANN to the Training set\n",
    "# Train the model so that it learns a good (or good enough) mapping of rows of input data to the output classification.\n",
    "# add verbose=0 to turn off the progress report during the training\n",
    "# To run the whole training dataset as one Batch, assign batch size: BatchSize=X_train.shape[0]\n",
    "classifierHistory = classifier.fit(X_train, y_train, batch_size = BatchSize, epochs = NumEpoch)\n",
    "\n",
    "# evaluate the keras model for the provided model and dataset\n",
    "loss, accuracy = classifier.evaluate(X_train, y_train)\n",
    "print('Print the loss and the accuracy of the model on the dataset')\n",
    "print('Loss [0,1]: %.4f' % (loss), 'Accuracy [0,1]: %.4f' % (accuracy))"
   ]
  },
  {
   "cell_type": "code",
   "execution_count": 4,
   "metadata": {},
   "outputs": [
    {
     "name": "stdout",
     "output_type": "stream",
     "text": [
      "Print the Confusion Matrix:\n",
      "[ TN, FP ]\n",
      "[ FN, TP ]=\n",
      "[[16803    23]\n",
      " [  664 14004]]\n",
      "Accurracy = 0.978186\n",
      "Precision = 0.998360\n",
      "Recall = 0.954731\n"
     ]
    }
   ],
   "source": [
    "########################################\n",
    "# Part 3 - Making predictions and evaluating the model\n",
    "#######################################\n",
    "\n",
    "# Predicting the Test set results\n",
    "y_pred = classifier.predict(X_test)\n",
    "y_pred = (y_pred > 0.9)   # y_pred is 0 if less than 0.9 or equal to 0.9, y_pred is 1 if it is greater than 0.9\n",
    "# summarize the first 5 cases\n",
    "#for i in range(5):\n",
    "#\tprint('%s => %d (expected %d)' % (X_test[i].tolist(), y_pred[i], y_test[i]))\n",
    "\n",
    "# Making the Confusion Matrix\n",
    "# [TN, FP ]\n",
    "# [FN, TP ]\n",
    "from sklearn.metrics import confusion_matrix, accuracy_score, precision_score, recall_score\n",
    "cm = confusion_matrix(y_test, y_pred)\n",
    "print('Print the Confusion Matrix:')\n",
    "print('[ TN, FP ]')\n",
    "print('[ FN, TP ]=')\n",
    "print(cm)\n",
    "print('Accurracy = %f' % accuracy_score(y_test, y_pred))\n",
    "print('Precision = %f' % precision_score(y_test, y_pred))\n",
    "print('Recall = %f' % recall_score(y_test, y_pred))"
   ]
  },
  {
   "cell_type": "code",
   "execution_count": 5,
   "metadata": {},
   "outputs": [
    {
     "name": "stdout",
     "output_type": "stream",
     "text": [
      "Plot the accuracy\n"
     ]
    },
    {
     "data": {
      "image/png": "[encoded data removed]",
      "text/plain": [
       "<Figure size 432x288 with 1 Axes>"
      ]
     },
     "metadata": {
      "needs_background": "light"
     },
     "output_type": "display_data"
    },
    {
     "name": "stdout",
     "output_type": "stream",
     "text": [
      "Plot the loss\n"
     ]
    },
    {
     "data": {
      "image/png": "[encoded data removed]",
      "text/plain": [
       "<Figure size 432x288 with 1 Axes>"
      ]
     },
     "metadata": {
      "needs_background": "light"
     },
     "output_type": "display_data"
    }
   ],
   "source": [
    "########################################\n",
    "# Part 4 - Visualizing\n",
    "#######################################\n",
    "\n",
    "# Import matplot lib libraries for plotting the figures. \n",
    "import matplotlib.pyplot as plt\n",
    "\n",
    "# You can plot the accuracy\n",
    "print('Plot the accuracy')\n",
    "# Keras 2.2.4 recognizes 'acc' and 2.3.1 recognizes 'accuracy'\n",
    "# use the command python -c 'import keras; print(keras.__version__)' on MAC or Linux to check Keras' version\n",
    "plt.plot(classifierHistory.history['accuracy'])\n",
    "plt.title('model accuracy')\n",
    "plt.ylabel('accuracy')\n",
    "plt.xlabel('epoch')\n",
    "plt.legend(['train'], loc='upper left')\n",
    "plt.savefig('accuracy_sample.png')\n",
    "plt.show()\n",
    "\n",
    "# You can plot history for loss\n",
    "print('Plot the loss')\n",
    "plt.plot(classifierHistory.history['loss'])\n",
    "plt.title('model loss')\n",
    "plt.ylabel('loss')\n",
    "plt.xlabel('epoch')\n",
    "plt.legend(['train'], loc='upper left')\n",
    "plt.savefig('loss_sample.png')\n",
    "plt.show()\n"
   ]
  },
  {
   "cell_type": "code",
   "execution_count": null,
   "metadata": {},
   "outputs": [],
   "source": []
  }
 ],
 "metadata": {
  "kernelspec": {
   "display_name": "Python 3",
   "language": "python",
   "name": "python3"
  },
  "language_info": {
   "codemirror_mode": {
    "name": "ipython",
    "version": 3
   },
   "file_extension": ".py",
   "mimetype": "text/x-python",
   "name": "python",
   "nbconvert_exporter": "python",
   "pygments_lexer": "ipython3",
   "version": "3.7.6"
  }
 },
 "nbformat": 4,
 "nbformat_minor": 5
}
