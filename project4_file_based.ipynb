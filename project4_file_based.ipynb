{
 "cells": [
  {
   "cell_type": "code",
   "execution_count": 11,
   "metadata": {
    "scrolled": true
   },
   "outputs": [
    {
     "name": "stdout",
     "output_type": "stream",
     "text": [
      "--Load from saved files--\n",
      "(Training Dataset) Please enter the attack class(es) that you want from the below list:\n",
      "(Note that you can choose one or multiple classes, e.g., 1 3, and input 0 means nothing is chosen) \n",
      "a1 -> DoS (Enter 1 for this selection)\n",
      "a2 -> Probe (Enter 2 for this selection)\n",
      "a3 -> U2R (Enter 3 for this selection)\n",
      "a4 -> R2L (Enter 4 for this selection)\n",
      "\n",
      "1 3\n",
      "(Testing Dataset) Please enter the attack class(es) that you want from the below list:\n",
      "(Note that you can choose one or multiple classes, e.g., 1 3, and input 0 means nothing is chosen) \n",
      "a1 -> DoS (Enter 1 for this selection)\n",
      "a2 -> Probe (Enter 2 for this selection)\n",
      "a3 -> U2R (Enter 3 for this selection)\n",
      "a4 -> R2L (Enter 4 for this selection)\n",
      "\n",
      "1 3\n",
      "(180634, 117) (180634,) (26928, 117) (26928,)\n"
     ]
    }
   ],
   "source": [
    "# -*- coding: utf-8 -*-\n",
    "\"\"\"\n",
    "Created on Mon Apr 15 19:43:04 2019\n",
    "\n",
    "Updated on Wed Jan 29 10:18:09 2020\n",
    "\n",
    "@author: created by Sowmya Myneni and updated by Dijiang Huang\n",
    "\n",
    "Edited by Kai Chi on Thu, Jul 6, 2023\n",
    "\"\"\"\n",
    "\n",
    "########################################\n",
    "# Part 1 - Data Pre-Processing\n",
    "#######################################\n",
    "\n",
    "# To load a dataset file in Python, you can use Pandas. Import pandas using the line below\n",
    "import pandas as pd\n",
    "# Import numpy to perform operations on the dataset\n",
    "import numpy as np\n",
    "\n",
    "# Variable Setup\n",
    "# Available datasets: KDDTrain+.txt, KDDTest+.txt, etc. More read Data Set Introduction.html within the NSL-KDD dataset folder\n",
    "# Type the training dataset file name in ''\n",
    "#TrainingDataPath='NSL-KDD/'\n",
    "#TrainingData='KDDTrain+_20Percent.txt'\n",
    "# Batch Size\n",
    "BatchSize=10\n",
    "# Epohe Size\n",
    "NumEpoch=10\n",
    "\n",
    "print('--Load from saved files--')\n",
    "# generate file names\n",
    "attack_class_1 = list(map(int, input(\"(Training Dataset) Please enter the attack class(es) that you want from the below list:\\n(Note that you can choose one or multiple classes, e.g., 1 3, and input 0 means nothing is chosen) \\na1 -> DoS (Enter 1 for this selection)\\na2 -> Probe (Enter 2 for this selection)\\na3 -> U2R (Enter 3 for this selection)\\na4 -> R2L (Enter 4 for this selection)\\n\\n\").split()))\n",
    "attack_class_2 = list(map(int, input(\"(Testing Dataset) Please enter the attack class(es) that you want from the below list:\\n(Note that you can choose one or multiple classes, e.g., 1 3, and input 0 means nothing is chosen) \\na1 -> DoS (Enter 1 for this selection)\\na2 -> Probe (Enter 2 for this selection)\\na3 -> U2R (Enter 3 for this selection)\\na4 -> R2L (Enter 4 for this selection)\\n\\n\").split()))\n",
    "file_extension = '.csv' # .csv or .txt\n",
    "trainingFileName=\"Training\"\n",
    "for i in range(len(attack_class_1)):\n",
    "    trainingFileName = trainingFileName + \"-a\" + str(attack_class_1[i])\n",
    "trainingFileName = trainingFileName + file_extension\n",
    "testingFileName=\"Testing\"\n",
    "for i in range(len(attack_class_2)):\n",
    "    testingFileName = testingFileName + \"-a\" + str(attack_class_2[i])\n",
    "testingFileName = testingFileName + file_extension\n",
    "\n",
    "# Import dataset.\n",
    "# Dataset is given in TraningData variable You can replace it with the file \n",
    "# path such as “C:\\Users\\...\\dataset.csv’. \n",
    "# The file can be a .txt as well. \n",
    "# If the dataset file has header, then keep header=0 otherwise use header=none\n",
    "# reference: https://www.shanelynn.ie/select-pandas-dataframe-rows-and-columns-using-iloc-loc-and-ix/\n",
    "#dataset = pd.read_csv(TrainingDataPath+TrainingData, header=None)\n",
    "\n",
    "#X = dataset.iloc[:, 0:-2].values\n",
    "#label_column = dataset.iloc[:, -2].values\n",
    "#y = []\n",
    "#for i in range(len(label_column)):\n",
    "#    if label_column[i] == 'normal':\n",
    "#        y.append(0)\n",
    "#    else:\n",
    "#        y.append(1)\n",
    "ds1 = pd.read_csv(trainingFileName)\n",
    "ds2 = pd.read_csv(testingFileName)\n",
    "X_train = ds1.iloc[:,0:-2].values\n",
    "X_test = ds2.iloc[:,0:-2].values\n",
    "n1 = ds1.shape[0]\n",
    "n2 = ds2.shape[0]\n",
    "y_train = np.zeros(n1)\n",
    "for i in range(n1):\n",
    "    if ds1.iloc[i,-2]== 'normal':\n",
    "        y_train[i] = 0\n",
    "    else:\n",
    "        y_train[i] = 1\n",
    "y_test = np.zeros(n2)\n",
    "for i in range(n2):\n",
    "    if ds2.iloc[i,-2]== 'normal':\n",
    "        y_test[i] = 0\n",
    "    else:\n",
    "        y_test[i] = 1\n",
    "\n",
    "# Convert ist to array\n",
    "#y = np.array(y)\n",
    "\n",
    "# Encoding categorical data (convert letters/words in numbers)\n",
    "# Reference: https://medium.com/@contactsunny/label-encoder-vs-one-hot-encoder-in-machine-learning-3fc273365621\n",
    "# The following code work without warning in Python 3.6 or older. Newer versions suggest to use ColumnTransformer\n",
    "'''\n",
    "from sklearn.preprocessing import LabelEncoder, OneHotEncoder\n",
    "le = LabelEncoder()\n",
    "X[:, 1] = le.fit_transform(X[:, 1])\n",
    "X[:, 2] = le.fit_transform(X[:, 2])\n",
    "X[:, 3] = le.fit_transform(X[:, 3])\n",
    "onehotencoder = OneHotEncoder(categorical_features = [1, 2, 3])\n",
    "X = onehotencoder.fit_transform(X).toarray()\n",
    "'''\n",
    "# The following code work Python 3.7 or newer\n",
    "from sklearn.preprocessing import OneHotEncoder\n",
    "from sklearn.compose import ColumnTransformer\n",
    "ct = ColumnTransformer(\n",
    "    [('one_hot_encoder', OneHotEncoder(), [1,2,3])],    # The column numbers to be transformed ([1, 2, 3] represents three columns to be transferred)\n",
    "    remainder='passthrough'                         # Leave the rest of the columns untouched\n",
    ")\n",
    "#X = np.array(ct.fit_transform(X), dtype=float)\n",
    "X = np.vstack((X_train, X_test))\n",
    "X = np.array(ct.fit_transform(X), dtype=float)\n",
    "X_train = X[0:n1,:]\n",
    "X_test = X[n1:n1+n2,:]\n",
    "\n",
    "\n",
    "# Splitting the dataset into the Training set and Test set (75% of data are used for training)\n",
    "# reference: https://scikit-learn.org/stable/modules/generated/sklearn.model_selection.train_test_split.html\n",
    "#from sklearn.model_selection import train_test_split\n",
    "#X_train, X_test, y_train, y_test = train_test_split(X, y, test_size = 0.25, random_state = 0)\n",
    "\n",
    "\n",
    "# Perform feature scaling. For ANN you can use StandardScaler, for RNNs recommended is \n",
    "# MinMaxScaler. \n",
    "# referece: https://scikit-learn.org/stable/modules/generated/sklearn.preprocessing.StandardScaler.html\n",
    "# https://scikit-learn.org/stable/modules/preprocessing.html\n",
    "from sklearn.preprocessing import StandardScaler\n",
    "sc = StandardScaler()\n",
    "X_train = sc.fit_transform(X_train)  # Scaling to the range [0,1]\n",
    "X_test = sc.fit_transform(X_test)\n",
    "\n",
    "print(X_train.shape,y_train.shape,X_test.shape,y_test.shape)\n"
   ]
  },
  {
   "cell_type": "code",
   "execution_count": 8,
   "metadata": {},
   "outputs": [
    {
     "ename": "NameError",
     "evalue": "name 'y_train' is not defined",
     "output_type": "error",
     "traceback": [
      "\u001b[0;31m---------------------------------------------------------------------------\u001b[0m",
      "\u001b[0;31mNameError\u001b[0m                                 Traceback (most recent call last)",
      "\u001b[0;32m<ipython-input-8-9cafa75cb573>\u001b[0m in \u001b[0;36m<module>\u001b[0;34m\u001b[0m\n\u001b[1;32m     32\u001b[0m \u001b[0;31m# add verbose=0 to turn off the progress report during the training\u001b[0m\u001b[0;34m\u001b[0m\u001b[0;34m\u001b[0m\u001b[0;34m\u001b[0m\u001b[0m\n\u001b[1;32m     33\u001b[0m \u001b[0;31m# To run the whole training dataset as one Batch, assign batch size: BatchSize=X_train.shape[0]\u001b[0m\u001b[0;34m\u001b[0m\u001b[0;34m\u001b[0m\u001b[0;34m\u001b[0m\u001b[0m\n\u001b[0;32m---> 34\u001b[0;31m \u001b[0mclassifierHistory\u001b[0m \u001b[0;34m=\u001b[0m \u001b[0mclassifier\u001b[0m\u001b[0;34m.\u001b[0m\u001b[0mfit\u001b[0m\u001b[0;34m(\u001b[0m\u001b[0mX_train\u001b[0m\u001b[0;34m,\u001b[0m \u001b[0my_train\u001b[0m\u001b[0;34m,\u001b[0m \u001b[0mbatch_size\u001b[0m \u001b[0;34m=\u001b[0m \u001b[0mBatchSize\u001b[0m\u001b[0;34m,\u001b[0m \u001b[0mepochs\u001b[0m \u001b[0;34m=\u001b[0m \u001b[0mNumEpoch\u001b[0m\u001b[0;34m)\u001b[0m\u001b[0;34m\u001b[0m\u001b[0;34m\u001b[0m\u001b[0m\n\u001b[0m\u001b[1;32m     35\u001b[0m \u001b[0;34m\u001b[0m\u001b[0m\n\u001b[1;32m     36\u001b[0m \u001b[0;31m# evaluate the keras model for the provided model and dataset\u001b[0m\u001b[0;34m\u001b[0m\u001b[0;34m\u001b[0m\u001b[0;34m\u001b[0m\u001b[0m\n",
      "\u001b[0;31mNameError\u001b[0m: name 'y_train' is not defined"
     ]
    }
   ],
   "source": [
    "########################################\n",
    "# Part 2: Building FNN\n",
    "#######################################\n",
    "\n",
    "# Importing the Keras libraries and packages\n",
    "#import keras\n",
    "from keras.models import Sequential\n",
    "from keras.layers import Dense\n",
    "\n",
    "# Initialising the ANN\n",
    "# Reference: https://machinelearningmastery.com/tutorial-first-neural-network-python-keras/\n",
    "classifier = Sequential()\n",
    "\n",
    "# Adding the input layer and the first hidden layer, 6 nodes, input_dim specifies the number of variables\n",
    "# rectified linear unit activation function relu, reference: https://machinelearningmastery.com/rectified-linear-activation-function-for-deep-learning-neural-networks/\n",
    "classifier.add(Dense(units = 6, kernel_initializer = 'uniform', activation = 'relu', input_dim = len(X_train[0])))\n",
    "\n",
    "# Adding the second hidden layer, 6 nodes\n",
    "classifier.add(Dense(units = 6, kernel_initializer = 'uniform', activation = 'relu'))\n",
    "\n",
    "# Adding the output layer, 1 node, \n",
    "# sigmoid on the output layer is to ensure the network output is between 0 and 1\n",
    "classifier.add(Dense(units = 1, kernel_initializer = 'uniform', activation = 'sigmoid'))\n",
    "\n",
    "# Compiling the ANN, \n",
    "# Gradient descent algorithm “adam“, Reference: https://machinelearningmastery.com/adam-optimization-algorithm-for-deep-learning/\n",
    "# This loss is for a binary classification problems and is defined in Keras as “binary_crossentropy“, Reference: https://machinelearningmastery.com/how-to-choose-loss-functions-when-training-deep-learning-neural-networks/\n",
    "classifier.compile(optimizer = 'adam', loss = 'binary_crossentropy', metrics = ['accuracy'])\n",
    "\n",
    "# Fitting the ANN to the Training set\n",
    "# Train the model so that it learns a good (or good enough) mapping of rows of input data to the output classification.\n",
    "# add verbose=0 to turn off the progress report during the training\n",
    "# To run the whole training dataset as one Batch, assign batch size: BatchSize=X_train.shape[0]\n",
    "classifierHistory = classifier.fit(X_train, y_train, batch_size = BatchSize, epochs = NumEpoch)\n",
    "\n",
    "# evaluate the keras model for the provided model and dataset\n",
    "loss, accuracy = classifier.evaluate(X_train, y_train)\n",
    "print('Print the loss and the accuracy of the model on the dataset')\n",
    "print('Loss [0,1]: %.4f' % (loss), 'Accuracy [0,1]: %.4f' % (accuracy))"
   ]
  },
  {
   "cell_type": "code",
   "execution_count": 33,
   "metadata": {},
   "outputs": [
    {
     "name": "stdout",
     "output_type": "stream",
     "text": [
      "693/693 [==============================] - 0s 342us/step\n",
      "Print the Confusion Matrix:\n",
      "[ TN, FP ]\n",
      "[ FN, TP ]=\n",
      "[[18528   894]\n",
      " [  872  1852]]\n",
      "0.783506114675586\n",
      "0.1230018965050122\n",
      "0.8769981034949879\n"
     ]
    }
   ],
   "source": [
    "########################################\n",
    "# Part 3 - Making predictions and evaluating the model\n",
    "#######################################\n",
    "\n",
    "# Predicting the Test set results\n",
    "y_pred = classifier.predict(X_test)\n",
    "y_pred = (y_pred > 0.9)   # y_pred is 0 if less than 0.9 or equal to 0.9, y_pred is 1 if it is greater than 0.9\n",
    "# summarize the first 5 cases\n",
    "#for i in range(5):\n",
    "#\tprint('%s => %d (expected %d)' % (X_test[i].tolist(), y_pred[i], y_test[i]))\n",
    "\n",
    "# Making the Confusion Matrix\n",
    "# [TN, FP ]\n",
    "# [FN, TP ]\n",
    "from sklearn.metrics import confusion_matrix\n",
    "cm = confusion_matrix(y_test, y_pred)\n",
    "print('Print the Confusion Matrix:')\n",
    "print('[ TN, FP ]')\n",
    "print('[ FN, TP ]=')\n",
    "print(cm)\n",
    "print((y_test==y_pred).mean())\n",
    "print((y_test==1).mean())\n",
    "print((y_test==0).mean())"
   ]
  },
  {
   "cell_type": "code",
   "execution_count": 34,
   "metadata": {},
   "outputs": [
    {
     "name": "stdout",
     "output_type": "stream",
     "text": [
      "Plot the accuracy\n"
     ]
    },
    {
     "data": {
      "image/png": "[encoded data removed]",
      "text/plain": [
       "<Figure size 640x480 with 1 Axes>"
      ]
     },
     "metadata": {},
     "output_type": "display_data"
    },
    {
     "name": "stdout",
     "output_type": "stream",
     "text": [
      "Plot the loss\n"
     ]
    },
    {
     "data": {
      "image/png": "[encoded data removed]",
      "text/plain": [
       "<Figure size 640x480 with 1 Axes>"
      ]
     },
     "metadata": {},
     "output_type": "display_data"
    }
   ],
   "source": [
    "########################################\n",
    "# Part 4 - Visualizing\n",
    "#######################################\n",
    "\n",
    "# Import matplot lib libraries for plotting the figures. \n",
    "import matplotlib.pyplot as plt\n",
    "\n",
    "# You can plot the accuracy\n",
    "print('Plot the accuracy')\n",
    "# Keras 2.2.4 recognizes 'acc' and 2.3.1 recognizes 'accuracy'\n",
    "# use the command python -c 'import keras; print(keras.__version__)' on MAC or Linux to check Keras' version\n",
    "plt.plot(classifierHistory.history['accuracy'])\n",
    "plt.title('model accuracy')\n",
    "plt.ylabel('accuracy')\n",
    "plt.xlabel('epoch')\n",
    "plt.legend(['train'], loc='upper left')\n",
    "plt.savefig('accuracy_sample.png')\n",
    "plt.show()\n",
    "\n",
    "# You can plot history for loss\n",
    "print('Plot the loss')\n",
    "plt.plot(classifierHistory.history['loss'])\n",
    "plt.title('model loss')\n",
    "plt.ylabel('loss')\n",
    "plt.xlabel('epoch')\n",
    "plt.legend(['train'], loc='upper left')\n",
    "plt.savefig('loss_sample.png')\n",
    "plt.show()\n"
   ]
  },
  {
   "cell_type": "code",
   "execution_count": null,
   "metadata": {},
   "outputs": [],
   "source": []
  }
 ],
 "metadata": {
  "kernelspec": {
   "display_name": "Python 3",
   "language": "python",
   "name": "python3"
  },
  "language_info": {
   "codemirror_mode": {
    "name": "ipython",
    "version": 3
   },
   "file_extension": ".py",
   "mimetype": "text/x-python",
   "name": "python",
   "nbconvert_exporter": "python",
   "pygments_lexer": "ipython3",
   "version": "3.7.6"
  }
 },
 "nbformat": 4,
 "nbformat_minor": 5
}
